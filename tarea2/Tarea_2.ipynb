{
  "cells": [
    {
      "cell_type": "markdown",
      "id": "d208cd55",
      "metadata": {
        "id": "d208cd55"
      },
      "source": [
        "# Tarea 2 - Funciones hash y cifrado por bloques\n",
        "\n",
        "1. Se recomienda hacer en equipo (de hasta 4 personas) para poder discutir los problemas y repartir el trabajo.\n",
        "2. Para tu entrega puedes realizar los programas en esta libreta de Jupyter o puedes anexar tus programas en archivos separados. En cualquier caso, agrega comentarios que expliquen el funcionamiento.\n",
        "3. Cualquier tarea plagiada total o parcialmente se calificará con cero. "
      ]
    },
    {
      "cell_type": "markdown",
      "id": "3bf4b539",
      "metadata": {
        "id": "3bf4b539"
      },
      "source": [
        "## 1. Vacuna para ransomware (1.5 puntos)\n",
        "\n",
        "Extrae el archivo `mis_archivos.zip`, que contiene el directorio `Mis archivos`. Desde este directorio ejecuta `juego.py` con Python 3:\n",
        "```\t\t\n",
        "Mis archivos$ python3 juego.py\n",
        "```\n",
        "Este programa es un ransomware de juguete, encripta todos los archivos del directorio actual y pide una recompensa para poder recuperar los originales. Haz un programa que funcione como vacuna para el ransomware, es decir, que revierta los cambios que fueron hechos al ejecutar `juego.py`. Cuando se ejecute tu programa en un directorio donde anteriormente se ejecutó el ransomware, se recuperarán los archivos originales (tal como eran, sin ninguna diferencia). Explica y justifica el funcionamiento de tu programa vacuna."
      ]
    },
    {
      "cell_type": "markdown",
      "id": "6b950c78",
      "metadata": {
        "id": "6b950c78"
      },
      "source": [
        "## Funciones hash"
      ]
    },
    {
      "cell_type": "code",
      "execution_count": null,
      "id": "677dfe92",
      "metadata": {
        "id": "677dfe92"
      },
      "outputs": [],
      "source": [
        "from hashlib import sha1\n",
        "\n",
        "datos = b'datos datos xD'\n",
        "\n",
        "print('Digesto como bytes')\n",
        "digesto = sha1(datos).digest()\n",
        "print(digesto)\n",
        "\n",
        "print('\\nDigesto en hexadecimal')\n",
        "digesto_hex = sha1(datos).hexdigest()\n",
        "print(digesto_hex)"
      ]
    },
    {
      "cell_type": "markdown",
      "id": "1ff1a100",
      "metadata": {},
      "source": [
        "El programa vacuna se encuentra en el archivo `vacuna.py` dentro de este directorio. Para recuperar los archivos, hacer lo siguiente:\n",
        "1. Copiar el archivo `vacuna.py` dentro de la carpeta con los archivos encriptados\n",
        "2. Ejecutar `python vacuna.py`\n",
        "3. Seguir las instrucciones del programa"
      ]
    },
    {
      "cell_type": "markdown",
      "id": "6916843a",
      "metadata": {},
      "source": [
        "La vacuna sigue los mismos pasos que el archivo `juego.py` pero en sentido inverso. A grandes rasgos hace lo siguiente:\n",
        "- Recupera los valores guardados en el archivo `.xyz`: c, d y k\n",
        "- Recupera la llave de cifrado usando k0 = d o k0 = d-1 (esto debido a que en `juego.py`, d se definió como `d |= k`). Primero intenta con k0 = d\n",
        "- Usa la misma función de cambio de bytes que `juego.py` (como ésta usa XOR, la misma función sirve para descifrar)\n",
        "- Pregunta al usuario si los archivos fueron recuperados.\n",
        " - Si es así, borra los archivos encriptados y termina\n",
        " - En otro caso, repite el proceso usando k0 = d - 1"
      ]
    },
    {
      "cell_type": "markdown",
      "id": "4854b840",
      "metadata": {},
      "source": [
        "Los detalles linea por linea se encuentran en los comentarios del archivo `vacuna.py`"
      ]
    },
    {
      "cell_type": "markdown",
      "id": "00eda8c5",
      "metadata": {
        "id": "00eda8c5"
      },
      "source": [
        "## 2. Contraseñas en bases de datos (1.5 puntos)\n",
        "\n",
        "1. El archivo `BD_jaqueada.txt` contiene una lista con los datos de 500 usuarios de un servicio web. La lista incluye el nombre de usuario y el hash de su contraseña. Por la forma de las cadenas en hexadecimal haces la suposición de que cada cadena es de la forma `$salt$H(contraseña||salt)` o `$salt$H(salt||contraseña)`, donde H es una función hash popular con salida de 32 bytes. Usando la lista de contraseñas conocidas `passwords.gz` que se adjunta con este documento, haz un programa para encontrar las contraseñas de los usuarios (por lo menos 50 contraseñas por cada miembro del equipo). Toma en cuenta que la búsqueda puede llevar un buen rato, así que reduce lo más que puedas la cantidad de operaciones realizadas durante la búsqueda. **Advertencia:** el archivo de contraseñas conocidas es muy grande, ten cuidado al usarlo ya que tus programas o incluso tu computadora podrían morir si se acaba la memoria disponible.\n",
        "\n",
        "2. En otra base de datos se usó el algoritmo `scrypt` para obtener el hash de las contraseñas, pues con este algoritmo se dificulta la búsqueda mediante listas de contraseñas comunes. `scrypt` tiene varios parámetros que se pueden cambiar para incrementar el costo (en procesador y memoria) de calcular un hash. La biblioteca hashlib incluye `scrypt`, pruébalo y después, usando los parámetros $n=2^{16}, r=8, p=1$ y la cadena salt `0xd8201aae236713fefe9a5266dc1f8012`, encuentra la contraseña de juanito. Es posible que tengas que pasar el parámetro `maxmem=2**30`.\n",
        "```\n",
        "juanito 5f495364792782144918397bdbb72bc04326a883138a11f3d0b61a3d2576ca00\n",
        "```"
      ]
    },
    {
      "cell_type": "markdown",
      "id": "83866d97",
      "metadata": {
        "id": "83866d97"
      },
      "source": [
        "## 3. Minando pumacoins (1.5 puntos)\n",
        "\n",
        "El pumacoin (PMC) es una criptomoneda (100% real no fake) similar al Bitcoin, pero que en vez de SHA256 utiliza una función hash más moderna llamada BLAKE2. BLAKE2 es una actualización de BLAKE, función hash que participó en la competencia para definir el estándar SHA3 pero que perdió frente a las funciones esponja (Keccak). A pesar de no ser un estándar, la seguridad y velocidad de BLAKE2 han permitido que sea adoptada en bastantes aplicaciones. La biblioteca hashlib de las últimas versiones de Python incluye una implementación de BLAKE2.\n",
        "\n",
        "Para generar un pumacoin, la especificación del protocolo dice que se usa una *prueba de trabajo* definida de la siguiente manera:\n",
        "\n",
        "Dado el identificador de un bloque de transacciones `id`, de longitud 16 bytes, los mineros tienen el reto de encontrar una cadena `x` de 16 bytes tal que el digesto generado por `BLAKE2s-256(id||x)` tiene al principio una cadena de bytes especial. Dicha cadena depende de la cantidad de mineros participando en la red: si hay a lo más 100 mineros la cadena especial es `0x242424`, cuando 100 < núm. de mineros < 5000 la cadena  es `0xf09fa491` y cuando hay 5000 o más mineros la cadena especial es `0xe29a92e29898`. El primer minero que encuentra `x` verifica que el bloque es correcto y comunica a los demás mineros que encontró `x`, a este minero se le recompensa con 1 PMC.\n",
        "\n",
        "1. Implementa una función para minar pumacoins. Recibe como entrada el `id` del bloque y `N` el número de mineros en un momento dado, y como salida da la cadena `x`.\n",
        "2. Resuelve la prueba de trabajo para las entradas `(0xd1c5593465eb5bfb9fcad9adf90af61f, 50)` y `(0x73bf71c8cd6f03c414cd2477a17570c4, 1000)`. Muestra las cadenas encontradas junto con el digesto que generan.\n",
        "3. (Opcional) Intenta con la entrada `(0x68188585019b02d746b48b4d06c15dcf, 5000)`, esto llevará más tiempo dependiendo de la capacidad de tu computadora (y de tu suerte)."
      ]
    },
    {
      "cell_type": "markdown",
      "id": "2c68666e",
      "metadata": {},
      "source": [
        "### 3.1 "
      ]
    },
    {
      "cell_type": "code",
      "execution_count": 1,
      "id": "73785dc9",
      "metadata": {},
      "outputs": [],
      "source": [
        "import os \n",
        "from hashlib import blake2s\n",
        "\n",
        "def minar_puma(id,N):\n",
        "    '''\n",
        "    Mina pumacoins dependiendo el numero de mineros\n",
        "    Params:\n",
        "    id: id del bloque \n",
        "    N: numero de mineros \n",
        "    Return:\n",
        "    x : cadena\n",
        "    '''\n",
        "    id2 = bytes.fromhex(id[2:]) # transformo de hex a bytes\n",
        "    cadena_especial = ['0x242424', '0xf09fa491', '0xe29a92e29898']\n",
        "    if N <= 100:\n",
        "        _minar('242424',id2)\n",
        "    elif 100 < N < 5000:\n",
        "        _minar('f09fa491',id2)\n",
        "    elif N >= 5000:\n",
        "        _minar('e29a92e29898',id2)\n",
        "\n",
        "def _minar(cadena,id):\n",
        "    '''\n",
        "    Params:\n",
        "    cadena: cadena especial que deben obtener el minero\n",
        "    id: id del bloque\n",
        "    '''\n",
        "    rand = os.urandom(16) \n",
        "    d = id + rand\n",
        "    x = blake2s(d,digest_size = 16).hexdigest()\n",
        "    especial = x[0:len(cadena)]\n",
        "    while especial != cadena:\n",
        "        d = id + bytes.fromhex(x)\n",
        "        x = blake2s(d,digest_size = 16).hexdigest()\n",
        "        especial = x[0:len(cadena)]\n",
        "    print('id: ',id.hex())\n",
        "    print('Genera a x: ',d.hex())\n",
        "    print('x= ',x)       \n",
        "    return x"
      ]
    },
    {
      "cell_type": "markdown",
      "id": "cc06b79d",
      "metadata": {},
      "source": [
        "### 3.2\n",
        "\n",
        "Los resultados estan en la imagen pumacoins.png"
      ]
    },
    {
      "cell_type": "code",
      "execution_count": null,
      "id": "f3b9c021",
      "metadata": {},
      "outputs": [],
      "source": [
        "minar_puma('0xd1c5593465eb5bfb9fcad9adf90af61f', 50) #40s aprox.\n",
        "print('*'*64)\n",
        "minar_puma('0x73bf71c8cd6f03c414cd2477a17570c4', 1000) # 90 min aprox."
      ]
    },
    {
      "cell_type": "markdown",
      "id": "c116e4da",
      "metadata": {},
      "source": [
        "Resultados..............................................\n",
        "\n",
        "\n",
        "<img src= pumacoins.png>\n"
      ]
    },
    {
      "cell_type": "markdown",
      "id": "f0e3a51d",
      "metadata": {
        "id": "f0e3a51d"
      },
      "source": [
        "## Modos de operación en cifrado por bloques\n",
        "\n",
        "Recordemos que los cifradores por bloques solamente funcionan con mensajes de una longitud fija (longitud de bloque). Para poder encriptar un mensaje de longitud arbitraria lo que se hace es\n",
        "1. Agregar un relleno al final del mensaje para que su longitud sea un múltiplo de la longitud de bloque.\n",
        "2. Dividir el mensaje en bloques.\n",
        "3. Aplicar el algoritmo de cifrado.\n",
        "\n",
        "El paso 3 puede hacerse de distintas maneras, a cada de una de ellas le llamamos **modo de operación**. Existen muchos modos de operación, varios de ellos están definidos en estándares, pero en esta tarea solamente abordaremos tres de ellos.\n",
        "\n",
        "#### Modo ECB\n",
        "\n",
        "El modo de operación más directo e *inseguro* se conoce como Electronic Codebook o ECB. Consiste en inicializar el algoritmo con la llave *k* y aplicarlo en cada bloque del mensaje. Más detalladamente, si $E_k$ es nuestro algoritmo cifrador inicializado con la llave $k$ y tenemos el mensaje $m = m_1m_2\\cdots m_n$, donde cada $m_i$ es un bloque, obtenemos el mensaje cifrado $c = c_1c_2\\cdots c_n$ donde $c_i = E_k(m_i)$.\n",
        "![](https://upload.wikimedia.org/wikipedia/commons/thumb/d/d6/ECB_encryption.svg/600px-ECB_encryption.svg.png \"Modo ECB\")\n",
        "\n",
        "En clase vimos que un algoritmo cifrador determinista no es seguro, ya que al aplicarlo a mensajes claros iguales se obtienen mensajes cifrados iguales. De la misma manera, este modo de operación mantiene los patrones que se pueden encontrar en los bloques del mensaje claro. Para arreglar este problema, los modos de operación posteriores utilizan una cadena extra que permite *aleatorizar* el mensaje."
      ]
    },
    {
      "cell_type": "code",
      "execution_count": null,
      "id": "44430e30",
      "metadata": {
        "id": "44430e30"
      },
      "outputs": [],
      "source": [
        "import os\n",
        "from cryptography.hazmat.primitives.ciphers import Cipher\n",
        "from cryptography.hazmat.primitives.ciphers.algorithms import AES\n",
        "from cryptography.hazmat.primitives.ciphers.modes import ECB\n",
        "\n",
        "key = os.urandom(16)\n",
        "#key = b'Mi llave secreta'\n",
        "# Se inicializa AES con la llave y el modo ECB\n",
        "aes_k = Cipher(AES(key), ECB())\n",
        "enc = aes_k.encryptor()\n",
        "# Mensaje de tres bloques de longitud\n",
        "mensaje = b'un bloke secreto' + b'-'*16 + b'un bloke secreto'\n",
        "mensaje_cifrado = enc.update(mensaje) + enc.finalize()\n",
        "print('Bloques cifrados')\n",
        "print(mensaje_cifrado[:16].hex(), mensaje_cifrado[16:32].hex(), mensaje_cifrado[32:].hex())\n",
        "\n",
        "dec = aes_k.decryptor()\n",
        "mensaje_descifrado = dec.update(mensaje_cifrado) + dec.finalize()\n",
        "print('Mensaje descifrado')\n",
        "print(mensaje_descifrado)"
      ]
    },
    {
      "cell_type": "markdown",
      "id": "2dfaac99",
      "metadata": {
        "id": "2dfaac99"
      },
      "source": [
        "#### Modo CBC\n",
        "El modo de operación Cipher block chaining o CBC usa un *vector de inicialización* $IV$ para aleatorizar el mensaje claro. Para encriptar $m = m_1m_2\\cdots m_n$, definimos $c_0 = IV$ y obtenemos el mensaje cifrado $c = c_0c_1c_2\\cdots c_n$, donde $c_i = E_k(m_i\\oplus c_{i-1})$; nota que $IV$ se agrega al inicio del mensaje cifrado para que pueda ser usado a la hora de descifrar.\n",
        "![](https://upload.wikimedia.org/wikipedia/commons/thumb/8/80/CBC_encryption.svg/640px-CBC_encryption.svg.png \"Modo CBC\")"
      ]
    },
    {
      "cell_type": "code",
      "execution_count": null,
      "id": "7f466b5d",
      "metadata": {
        "id": "7f466b5d"
      },
      "outputs": [],
      "source": [
        "from cryptography.hazmat.primitives.ciphers.modes import CBC\n",
        "\n",
        "key = os.urandom(16)\n",
        "iv = os.urandom(16)\n",
        "# Se inicializa AES con la llave y el modo CBC, que requiere un IV\n",
        "aes_k = Cipher(AES(key), CBC(iv))\n",
        "enc = aes_k.encryptor()\n",
        "mensaje = b'un bloke secreto' + b'-'*16 + b'un bloke secreto'\n",
        "mensaje_cifrado = enc.update(mensaje) + enc.finalize()\n",
        "print('Bloques cifrados')\n",
        "print(mensaje_cifrado[:16].hex(), mensaje_cifrado[16:32].hex(), mensaje_cifrado[32:].hex())\n",
        "\n",
        "dec = aes_k.decryptor()\n",
        "mensaje_descifrado = dec.update(mensaje_cifrado) + dec.finalize()\n",
        "print('Mensaje descifrado')\n",
        "print(mensaje_descifrado)"
      ]
    },
    {
      "cell_type": "markdown",
      "id": "c5477a82",
      "metadata": {
        "id": "c5477a82"
      },
      "source": [
        "#### Modo CTR\n",
        "\n",
        "En el modo CTR (de contador) el algoritmo de cifrado se aplica a una cadena $IV||ctr$, donde $IV$ es un vector de inicialización generado aleatoriamente y $ctr$ es una cadena que sirve como contador (el símbolo $||$ se refiere a concatenación). La cadena $IV||ctr$ será la entrada de $E_k$ y el valor del contador se incrementa en uno por cada bloque del mensaje claro. El mensaje cifrado es el XOR de los bloques claros y la salida correspondiente de $E_k$, es decir, el mensaje claro $m = m_1m_2\\cdots m_n$ se cifra en el mensaje $c = c_0c_1\\cdots c_n$, donde $c_0 = IV$ y para los demás bloques $ c_i = E_k(IV||i) \\oplus m_i$.\n",
        "![](https://upload.wikimedia.org/wikipedia/commons/thumb/4/4d/CTR_encryption_2.svg/640px-CTR_encryption_2.svg.png \"Modo CTR\")"
      ]
    },
    {
      "cell_type": "markdown",
      "id": "a2c14c9d",
      "metadata": {
        "id": "a2c14c9d"
      },
      "source": [
        "### Padding\n",
        "El relleno o padding que se agrega a los bloques para que tengan el tamaño adecuado puede ser arbitrario (en tanto pueda ser quitado sin ambigüedad). En esta tarea usarás el padding que consiste en agregar la secuencia de bytes BB...B de longitud igual a B, donde B es un entero entre 1 y 16. Por ejemplo, si queremos rellenar la cadena `hola mundo` para tener un bloque de 16 bytes, se agregará la cadena de 6 bytes `0x060606060606`, o la cadena `A` se rellena con la cadena `0x0f0f0f0f0f0f0f0f0f0f0f0f0f0f0f`."
      ]
    },
    {
      "cell_type": "markdown",
      "id": "355c4cfc",
      "metadata": {
        "id": "355c4cfc"
      },
      "source": [
        "## 4. Implementando modos de operación (1.5 puntos)\n",
        "\n",
        "Investiga el proceso de descifrado para los modos CBC y CTR (puedes tratar de deducirlo revisando los diagramas mostrados arriba). Luego implementa las funciones de cifrado y descifrado de los modos CBC y CTR usando AES con llaves de 128 bits, para eso vas a utilizar el modo ECB como base para poder aplicar $AES_k$ o $AES_k^{-1}$ según corresponda. Tus funciones aceptarán mensajes de tamaño arbitrario, por lo cual tienen que agregar un relleno según sea necesario. Las funciones de descifrado devolverán el texto claro solamente si el padding del mensaje es correcto, en caso contrario lanzarán una excepción.  El objetivo es que tú programes los modos de operación, por lo cual no puedes usar los modos CBC y CTR que vienen incluidos en bibliotecas."
      ]
    },
    {
      "cell_type": "code",
      "execution_count": null,
      "id": "56867b98",
      "metadata": {
        "id": "56867b98"
      },
      "outputs": [],
      "source": [
        "from cryptography.hazmat.primitives.ciphers import Cipher\n",
        "from cryptography.hazmat.primitives.ciphers.algorithms import AES\n",
        "from cryptography.hazmat.primitives.ciphers.modes import ECB\n",
        "\n",
        "def aes128_cbc_enc(llave, mensaje):\n",
        "    aes = Cipher(AES(key), ECB())\n",
        "    enc = aes.encryptor()\n",
        "    # FALTA IMPLEMENTAR\n",
        "\n",
        "def aes128_cbc_dec(llave, cifrado):\n",
        "    # FALTA IMPLEMENTAR\n",
        "    \n",
        "def aes128_ctr_enc(llave, mensaje):\n",
        "    # FALTA IMPLEMENTAR\n",
        "    \n",
        "def aes128_ctr_dec(llave, cifrado):\n",
        "    # FALTA IMPLEMENTAR"
      ]
    },
    {
      "cell_type": "code",
      "execution_count": null,
      "id": "bb124822",
      "metadata": {
        "id": "bb124822"
      },
      "outputs": [],
      "source": [
        "# Para hacer pruebas\n",
        "llave = b'Mi llave secreta'\n",
        "mensaje = b'Mensaje de texto mas grande que un bloque y de longitud que si es multiplo de 16'\n",
        "mensaje2 = b'UwU'"
      ]
    },
    {
      "cell_type": "markdown",
      "id": "a40a65b9",
      "metadata": {
        "id": "a40a65b9"
      },
      "source": [
        "## 5. Ataque del oráculo de padding (4 puntos)\n",
        "\n",
        "En este ejercicio programarás el ataque del oráculo de padding, usando AES128 en modo CBC. Para lograrlo realiza las siguientes funciones:\n",
        "\t\t\n",
        "1. Para simular el oráculo de padding, implementa una función llamada `oraculo_padding` que recibe un criptotexto (con el IV incluido al inicio) y devuelve un valor booleano: verdadero cuando el mensaje descifrado tiene un relleno válido y falso en caso contrario. `oraculo_padding` llamará a tu función `aes128_cbc_dec` para descifrar el criptotexto, usando la llave `k` que está definida fuera de `oraculo_padding`. Nota que `k` no es parte de la entrada del oráculo, pues la idea es simular una caja negra que solamente responde si el descifrado tuvo un padding correcto."
      ]
    },
    {
      "cell_type": "code",
      "execution_count": null,
      "id": "3306e295",
      "metadata": {
        "id": "3306e295"
      },
      "outputs": [],
      "source": [
        "# La llave k que usa el oráculo\n",
        "k = LLAVE\n",
        "\n",
        "# El oráculo intenta desencriptar y devuelve True si el padding es correcto.\n",
        "def oraculo_padding(criptotexto):\n",
        "    # FALTA"
      ]
    },
    {
      "cell_type": "markdown",
      "id": "2a091368",
      "metadata": {
        "id": "2a091368"
      },
      "source": [
        "2. Haz una función llamada `recupera_padding` que recibe una cadena $ C $ de $ 16(n+1) $ bytes, que equivale a un bloque IV y $ n $ bloques de datos, y suponemos que $ M =  AES_k^{-1}(C) $ contiene un padding de entre 1 y 16 bytes. La función devolverá el padding del mensaje. Esta función no puede usar ningún método de AES ni la llave $ k $, pero puede llamar a `oraculo_padding`."
      ]
    },
    {
      "cell_type": "code",
      "execution_count": null,
      "id": "7caa2527",
      "metadata": {
        "id": "7caa2527"
      },
      "outputs": [],
      "source": [
        "# Con esta función el adversario puede obtener el relleno que fue agregado al texto claro\n",
        "# El adversario escoge el criptotexto y puede llamar a oraculo_padding\n",
        "def recupera_padding(criptotexto):\n",
        "    # FALTA"
      ]
    },
    {
      "cell_type": "markdown",
      "id": "4a97eefa",
      "metadata": {
        "id": "4a97eefa"
      },
      "source": [
        "3. Implementa una función llamada `recupera_mensaje_original` que recibe una cadena $ C $ de $ 16(n+1) $ bytes, que equivale a un bloque IV y $ n $ bloques de datos. La función devuelve $ AES_k^{-1}(C) $ usando el modo CBC, es decir, recupera el mensaje claro que corresponde al mensaje cifrado $ C $.  Esta función no puede usar ningún método de AES ni la llave $ k $, pero puede llamar a `oraculo_padding` y `recupera_padding`.\n"
      ]
    },
    {
      "cell_type": "code",
      "execution_count": null,
      "id": "0b9017e7",
      "metadata": {
        "id": "0b9017e7"
      },
      "outputs": [],
      "source": [
        "# El adversario descifra el mensaje, puede consultar al oráculo o a recupera_padding\n",
        "def recupera_mensaje_original(criptotexto):\n",
        "    # FALTA"
      ]
    }
  ],
  "metadata": {
    "colab": {
      "name": "Tarea 2.ipynb",
      "provenance": []
    },
    "interpreter": {
      "hash": "8167847512adeeef8bf7c5731040f4325428be1079caa2094a002f50ed9b0035"
    },
    "kernelspec": {
      "display_name": "Python 3.8.13 ('crytp')",
      "language": "python",
      "name": "python3"
    },
    "language_info": {
      "codemirror_mode": {
        "name": "ipython",
        "version": 3
      },
      "file_extension": ".py",
      "mimetype": "text/x-python",
      "name": "python",
      "nbconvert_exporter": "python",
      "pygments_lexer": "ipython3",
      "version": "3.8.13"
    }
  },
  "nbformat": 4,
  "nbformat_minor": 5
}
